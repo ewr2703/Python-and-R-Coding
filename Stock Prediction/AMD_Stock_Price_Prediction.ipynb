{
  "nbformat": 4,
  "nbformat_minor": 0,
  "metadata": {
    "colab": {
      "name": "AMD Stock Price Prediction.ipynb",
      "provenance": [],
      "collapsed_sections": []
    },
    "kernelspec": {
      "name": "python3",
      "display_name": "Python 3"
    }
  },
  "cells": [
    {
      "cell_type": "markdown",
      "metadata": {
        "id": "gvDwfWeXs2x8",
        "colab_type": "text"
      },
      "source": [
        "This program pulls stock data from the web and predicts the future price of that stock. "
      ]
    },
    {
      "cell_type": "markdown",
      "metadata": {
        "id": "Y8p37p8l0Tsq",
        "colab_type": "text"
      },
      "source": [
        "*To - Do\n",
        "- Make a function to take a stock to easily just pull data\n",
        "- need an input of date and stock symbol as well as data source\n",
        "- Need to also build a function to check for empty values\n",
        "- Need a function to also convert dataframe to numpy array\n",
        "- maybe make a section on how to split data in different ways*"
      ]
    },
    {
      "cell_type": "markdown",
      "metadata": {
        "id": "SCIGRcGmsKKf",
        "colab_type": "text"
      },
      "source": [
        "# LSTM - Long Short Term Memory"
      ]
    },
    {
      "cell_type": "markdown",
      "metadata": {
        "id": "8oUIAAIQ2kLY",
        "colab_type": "text"
      },
      "source": [
        "# Import the libraries"
      ]
    },
    {
      "cell_type": "code",
      "metadata": {
        "id": "MDxiaxpprrN7",
        "colab_type": "code",
        "colab": {}
      },
      "source": [
        "import math\n",
        "import pandas as pd\n",
        "import numpy as np\n",
        "import pandas_datareader as web\n",
        "from sklearn.preprocessing import MinMaxScaler\n",
        "from keras.models import Sequential\n",
        "from keras.layers import Dense, LSTM\n",
        "import matplotlib.pyplot as plt\n",
        "plt.style.use(\"fivethirtyeight\")"
      ],
      "execution_count": 11,
      "outputs": []
    },
    {
      "cell_type": "markdown",
      "metadata": {
        "id": "Umk7Vk6q2mjS",
        "colab_type": "text"
      },
      "source": [
        "# Bring in the Data from source"
      ]
    },
    {
      "cell_type": "code",
      "metadata": {
        "id": "qgxCQfFKs08W",
        "colab_type": "code",
        "colab": {
          "base_uri": "https://localhost:8080/",
          "height": 455
        },
        "outputId": "44a09360-8ef4-491e-a06f-f1facd217eb3"
      },
      "source": [
        "# Grab the data for AMD\n",
        "amd = web.DataReader('AMD', data_source='yahoo', start = \"2013-01-01\", end = '2020-06-26')\n",
        "# View the data\n",
        "amd"
      ],
      "execution_count": 3,
      "outputs": [
        {
          "output_type": "execute_result",
          "data": {
            "text/html": [
              "<div>\n",
              "<style scoped>\n",
              "    .dataframe tbody tr th:only-of-type {\n",
              "        vertical-align: middle;\n",
              "    }\n",
              "\n",
              "    .dataframe tbody tr th {\n",
              "        vertical-align: top;\n",
              "    }\n",
              "\n",
              "    .dataframe thead th {\n",
              "        text-align: right;\n",
              "    }\n",
              "</style>\n",
              "<table border=\"1\" class=\"dataframe\">\n",
              "  <thead>\n",
              "    <tr style=\"text-align: right;\">\n",
              "      <th></th>\n",
              "      <th>High</th>\n",
              "      <th>Low</th>\n",
              "      <th>Open</th>\n",
              "      <th>Close</th>\n",
              "      <th>Volume</th>\n",
              "      <th>Adj Close</th>\n",
              "    </tr>\n",
              "    <tr>\n",
              "      <th>Date</th>\n",
              "      <th></th>\n",
              "      <th></th>\n",
              "      <th></th>\n",
              "      <th></th>\n",
              "      <th></th>\n",
              "      <th></th>\n",
              "    </tr>\n",
              "  </thead>\n",
              "  <tbody>\n",
              "    <tr>\n",
              "      <th>2013-01-02</th>\n",
              "      <td>2.570000</td>\n",
              "      <td>2.450000</td>\n",
              "      <td>2.550000</td>\n",
              "      <td>2.530000</td>\n",
              "      <td>27214800</td>\n",
              "      <td>2.530000</td>\n",
              "    </tr>\n",
              "    <tr>\n",
              "      <th>2013-01-03</th>\n",
              "      <td>2.590000</td>\n",
              "      <td>2.460000</td>\n",
              "      <td>2.520000</td>\n",
              "      <td>2.490000</td>\n",
              "      <td>24966900</td>\n",
              "      <td>2.490000</td>\n",
              "    </tr>\n",
              "    <tr>\n",
              "      <th>2013-01-04</th>\n",
              "      <td>2.590000</td>\n",
              "      <td>2.490000</td>\n",
              "      <td>2.510000</td>\n",
              "      <td>2.590000</td>\n",
              "      <td>22054200</td>\n",
              "      <td>2.590000</td>\n",
              "    </tr>\n",
              "    <tr>\n",
              "      <th>2013-01-07</th>\n",
              "      <td>2.700000</td>\n",
              "      <td>2.600000</td>\n",
              "      <td>2.610000</td>\n",
              "      <td>2.670000</td>\n",
              "      <td>25575200</td>\n",
              "      <td>2.670000</td>\n",
              "    </tr>\n",
              "    <tr>\n",
              "      <th>2013-01-08</th>\n",
              "      <td>2.760000</td>\n",
              "      <td>2.640000</td>\n",
              "      <td>2.720000</td>\n",
              "      <td>2.670000</td>\n",
              "      <td>29140800</td>\n",
              "      <td>2.670000</td>\n",
              "    </tr>\n",
              "    <tr>\n",
              "      <th>...</th>\n",
              "      <td>...</td>\n",
              "      <td>...</td>\n",
              "      <td>...</td>\n",
              "      <td>...</td>\n",
              "      <td>...</td>\n",
              "      <td>...</td>\n",
              "    </tr>\n",
              "    <tr>\n",
              "      <th>2020-06-22</th>\n",
              "      <td>55.169998</td>\n",
              "      <td>53.740002</td>\n",
              "      <td>54.669998</td>\n",
              "      <td>54.759998</td>\n",
              "      <td>44704800</td>\n",
              "      <td>54.759998</td>\n",
              "    </tr>\n",
              "    <tr>\n",
              "      <th>2020-06-23</th>\n",
              "      <td>55.369999</td>\n",
              "      <td>53.869999</td>\n",
              "      <td>55.049999</td>\n",
              "      <td>53.990002</td>\n",
              "      <td>48089000</td>\n",
              "      <td>53.990002</td>\n",
              "    </tr>\n",
              "    <tr>\n",
              "      <th>2020-06-24</th>\n",
              "      <td>54.740002</td>\n",
              "      <td>51.919998</td>\n",
              "      <td>53.939999</td>\n",
              "      <td>52.389999</td>\n",
              "      <td>53535500</td>\n",
              "      <td>52.389999</td>\n",
              "    </tr>\n",
              "    <tr>\n",
              "      <th>2020-06-25</th>\n",
              "      <td>52.700001</td>\n",
              "      <td>50.540001</td>\n",
              "      <td>52.560001</td>\n",
              "      <td>51.930000</td>\n",
              "      <td>51129600</td>\n",
              "      <td>51.930000</td>\n",
              "    </tr>\n",
              "    <tr>\n",
              "      <th>2020-06-26</th>\n",
              "      <td>51.950001</td>\n",
              "      <td>49.450001</td>\n",
              "      <td>51.849998</td>\n",
              "      <td>50.099998</td>\n",
              "      <td>65392900</td>\n",
              "      <td>50.099998</td>\n",
              "    </tr>\n",
              "  </tbody>\n",
              "</table>\n",
              "<p>1885 rows × 6 columns</p>\n",
              "</div>"
            ],
            "text/plain": [
              "                 High        Low       Open      Close    Volume  Adj Close\n",
              "Date                                                                       \n",
              "2013-01-02   2.570000   2.450000   2.550000   2.530000  27214800   2.530000\n",
              "2013-01-03   2.590000   2.460000   2.520000   2.490000  24966900   2.490000\n",
              "2013-01-04   2.590000   2.490000   2.510000   2.590000  22054200   2.590000\n",
              "2013-01-07   2.700000   2.600000   2.610000   2.670000  25575200   2.670000\n",
              "2013-01-08   2.760000   2.640000   2.720000   2.670000  29140800   2.670000\n",
              "...               ...        ...        ...        ...       ...        ...\n",
              "2020-06-22  55.169998  53.740002  54.669998  54.759998  44704800  54.759998\n",
              "2020-06-23  55.369999  53.869999  55.049999  53.990002  48089000  53.990002\n",
              "2020-06-24  54.740002  51.919998  53.939999  52.389999  53535500  52.389999\n",
              "2020-06-25  52.700001  50.540001  52.560001  51.930000  51129600  51.930000\n",
              "2020-06-26  51.950001  49.450001  51.849998  50.099998  65392900  50.099998\n",
              "\n",
              "[1885 rows x 6 columns]"
            ]
          },
          "metadata": {
            "tags": []
          },
          "execution_count": 3
        }
      ]
    },
    {
      "cell_type": "markdown",
      "metadata": {
        "id": "ZN3kvh_h2qRy",
        "colab_type": "text"
      },
      "source": [
        "# Visualize the stock trend"
      ]
    },
    {
      "cell_type": "code",
      "metadata": {
        "id": "CAON4fNds0-v",
        "colab_type": "code",
        "colab": {
          "base_uri": "https://localhost:8080/",
          "height": 570
        },
        "outputId": "5f0d2edf-d10f-4b59-931c-ca88f732ba18"
      },
      "source": [
        "# Viaulize the price history of AMD stock\n",
        "plt.figure(figsize=(20,10))\n",
        "plt.title(\"Close Price History\")\n",
        "plt.plot(amd['Close'])\n",
        "plt.xlabel('Date', fontsize=20)\n",
        "plt.ylabel('Close Price USD', fontsize = 20)\n",
        "plt.legend()\n",
        "plt.show()\n"
      ],
      "execution_count": 4,
      "outputs": [
        {
          "output_type": "stream",
          "text": [
            "No handles with labels found to put in legend.\n"
          ],
          "name": "stderr"
        },
        {
          "output_type": "display_data",
          "data": {
            "image/png": "[encoded data removed]",
            "text/plain": [
              "<Figure size 1440x720 with 1 Axes>"
            ]
          },
          "metadata": {
            "tags": []
          }
        }
      ]
    },
    {
      "cell_type": "markdown",
      "metadata": {
        "id": "qhKAf7LQ2cbw",
        "colab_type": "text"
      },
      "source": [
        "# Pre-processing the data before it goes into a model"
      ]
    },
    {
      "cell_type": "code",
      "metadata": {
        "id": "dVd_Zptys1Ey",
        "colab_type": "code",
        "colab": {
          "base_uri": "https://localhost:8080/",
          "height": 147
        },
        "outputId": "8340842a-6f1d-485d-a214-c06df7f861b0"
      },
      "source": [
        "# Clean the data to predict on the stock\n",
        "# For it to run in a Keras Model the dataframe must be transformed to a numpy array\n",
        "\n",
        "# The closing price will be the predictor so take only this column\n",
        "amd_close = amd.filter([\"Close\"])\n",
        "# Convert to numpy array\n",
        "dataset = amd_close.values\n",
        "\n",
        "# Scale the data\n",
        "# This is necessary to preprocess the data to ensure the highs and lows (outliers) of the data are on the same scale\n",
        "# This step is similar to image preprocessing image data when diving all pixels by 255\n",
        "scaler = MinMaxScaler(feature_range=(0,1))\n",
        "# This puts all data points either at a 0 or 1 or anything between\n",
        "scaled_data = scaler.fit_transform(dataset)\n",
        "\n",
        "scaled_data"
      ],
      "execution_count": 5,
      "outputs": [
        {
          "output_type": "execute_result",
          "data": {
            "text/plain": [
              "array([[0.01588687],\n",
              "       [0.01518855],\n",
              "       [0.01693436],\n",
              "       ...,\n",
              "       [0.88634773],\n",
              "       [0.87831702],\n",
              "       [0.84636867]])"
            ]
          },
          "metadata": {
            "tags": []
          },
          "execution_count": 5
        }
      ]
    },
    {
      "cell_type": "markdown",
      "metadata": {
        "id": "oXY_csXz2zOI",
        "colab_type": "text"
      },
      "source": [
        "# Model"
      ]
    },
    {
      "cell_type": "code",
      "metadata": {
        "id": "q0l8AwbI21YY",
        "colab_type": "code",
        "colab": {
          "base_uri": "https://localhost:8080/",
          "height": 1000
        },
        "outputId": "f35e0d72-c03c-4a6f-bcec-76fd0e2547d5"
      },
      "source": [
        "# training data set \n",
        "train = scaled_data[0:len(scaled_data), :]\n",
        "\n",
        "# Split the training data\n",
        "\n",
        "# The idea here is to take data out of the scaled dataset and apply them to two different list\n",
        "# One list will be made up of the predictor variables while the other list will be made up of the prediction\n",
        "# This split is necessary to train the model so that when a test set comes in, \n",
        "# we can fit this training data set to the test or any new stock data for AMD\n",
        "\n",
        "# make x_train an empty list\n",
        "# this will be the predictor variable\n",
        "x_train = []\n",
        "# make y_train an empty list\n",
        "# make y_train as dependent variable \n",
        "y_train = []\n",
        "\n",
        "for i in range(100, len(train)):\n",
        "  # this takes the position of i to 100 but excludes i and \n",
        "  # appends to the x_train list\n",
        "  # take the 0 column which means first column\n",
        "  x_train.append(train[i-100:i, 0])\n",
        "  y_train.append(train[i,0])\n",
        "\n",
        "  if i <= 101:\n",
        "    print(x_train)\n",
        "    print(y_train)\n",
        "    print()\n",
        "\n"
      ],
      "execution_count": 6,
      "outputs": [
        {
          "output_type": "stream",
          "text": [
            "[array([0.01588687, 0.01518855, 0.01693436, 0.01833101, 0.01833101,\n",
            "       0.01763268, 0.0174581 , 0.01833101, 0.01780726, 0.01850559,\n",
            "       0.01920391, 0.01955307, 0.0146648 , 0.01449022, 0.01937849,\n",
            "       0.02042598, 0.02147346, 0.02094972, 0.01955307, 0.01798184,\n",
            "       0.01710894, 0.01710894, 0.01571229, 0.01710894, 0.01710894,\n",
            "       0.01658519, 0.01693436, 0.01833101, 0.02007681, 0.01972765,\n",
            "       0.01972765, 0.01902933, 0.02094972, 0.01885475, 0.01710894,\n",
            "       0.01728352, 0.01588687, 0.0146648 , 0.01588687, 0.01518855,\n",
            "       0.01396648, 0.01361732, 0.01414106, 0.01414106, 0.01623603,\n",
            "       0.01641061, 0.01693436, 0.01728352, 0.01710894, 0.01763268,\n",
            "       0.01710894, 0.01798184, 0.01833101, 0.01972765, 0.01780726,\n",
            "       0.01606145, 0.01553771, 0.01606145, 0.01623603, 0.01623603,\n",
            "       0.01431564, 0.01344274, 0.01222067, 0.01239525, 0.01169693,\n",
            "       0.01693436, 0.01763268, 0.01728352, 0.01571229, 0.01501397,\n",
            "       0.01361732, 0.01431564, 0.01361732, 0.01553771, 0.01483939,\n",
            "       0.0146648 , 0.01588687, 0.01728352, 0.01850559, 0.01780726,\n",
            "       0.01850559, 0.02094972, 0.02793296, 0.03125   , 0.03456704,\n",
            "       0.03474162, 0.03351955, 0.0385824 , 0.03910614, 0.04067737,\n",
            "       0.04451816, 0.04608939, 0.04818436, 0.0385824 , 0.04277235,\n",
            "       0.04329609, 0.04189944, 0.04085195, 0.04172486, 0.04242319])]\n",
            "[0.04242318647758618]\n",
            "\n",
            "[array([0.01588687, 0.01518855, 0.01693436, 0.01833101, 0.01833101,\n",
            "       0.01763268, 0.0174581 , 0.01833101, 0.01780726, 0.01850559,\n",
            "       0.01920391, 0.01955307, 0.0146648 , 0.01449022, 0.01937849,\n",
            "       0.02042598, 0.02147346, 0.02094972, 0.01955307, 0.01798184,\n",
            "       0.01710894, 0.01710894, 0.01571229, 0.01710894, 0.01710894,\n",
            "       0.01658519, 0.01693436, 0.01833101, 0.02007681, 0.01972765,\n",
            "       0.01972765, 0.01902933, 0.02094972, 0.01885475, 0.01710894,\n",
            "       0.01728352, 0.01588687, 0.0146648 , 0.01588687, 0.01518855,\n",
            "       0.01396648, 0.01361732, 0.01414106, 0.01414106, 0.01623603,\n",
            "       0.01641061, 0.01693436, 0.01728352, 0.01710894, 0.01763268,\n",
            "       0.01710894, 0.01798184, 0.01833101, 0.01972765, 0.01780726,\n",
            "       0.01606145, 0.01553771, 0.01606145, 0.01623603, 0.01623603,\n",
            "       0.01431564, 0.01344274, 0.01222067, 0.01239525, 0.01169693,\n",
            "       0.01693436, 0.01763268, 0.01728352, 0.01571229, 0.01501397,\n",
            "       0.01361732, 0.01431564, 0.01361732, 0.01553771, 0.01483939,\n",
            "       0.0146648 , 0.01588687, 0.01728352, 0.01850559, 0.01780726,\n",
            "       0.01850559, 0.02094972, 0.02793296, 0.03125   , 0.03456704,\n",
            "       0.03474162, 0.03351955, 0.0385824 , 0.03910614, 0.04067737,\n",
            "       0.04451816, 0.04608939, 0.04818436, 0.0385824 , 0.04277235,\n",
            "       0.04329609, 0.04189944, 0.04085195, 0.04172486, 0.04242319]), array([0.01518855, 0.01693436, 0.01833101, 0.01833101, 0.01763268,\n",
            "       0.0174581 , 0.01833101, 0.01780726, 0.01850559, 0.01920391,\n",
            "       0.01955307, 0.0146648 , 0.01449022, 0.01937849, 0.02042598,\n",
            "       0.02147346, 0.02094972, 0.01955307, 0.01798184, 0.01710894,\n",
            "       0.01710894, 0.01571229, 0.01710894, 0.01710894, 0.01658519,\n",
            "       0.01693436, 0.01833101, 0.02007681, 0.01972765, 0.01972765,\n",
            "       0.01902933, 0.02094972, 0.01885475, 0.01710894, 0.01728352,\n",
            "       0.01588687, 0.0146648 , 0.01588687, 0.01518855, 0.01396648,\n",
            "       0.01361732, 0.01414106, 0.01414106, 0.01623603, 0.01641061,\n",
            "       0.01693436, 0.01728352, 0.01710894, 0.01763268, 0.01710894,\n",
            "       0.01798184, 0.01833101, 0.01972765, 0.01780726, 0.01606145,\n",
            "       0.01553771, 0.01606145, 0.01623603, 0.01623603, 0.01431564,\n",
            "       0.01344274, 0.01222067, 0.01239525, 0.01169693, 0.01693436,\n",
            "       0.01763268, 0.01728352, 0.01571229, 0.01501397, 0.01361732,\n",
            "       0.01431564, 0.01361732, 0.01553771, 0.01483939, 0.0146648 ,\n",
            "       0.01588687, 0.01728352, 0.01850559, 0.01780726, 0.01850559,\n",
            "       0.02094972, 0.02793296, 0.03125   , 0.03456704, 0.03474162,\n",
            "       0.03351955, 0.0385824 , 0.03910614, 0.04067737, 0.04451816,\n",
            "       0.04608939, 0.04818436, 0.0385824 , 0.04277235, 0.04329609,\n",
            "       0.04189944, 0.04085195, 0.04172486, 0.04242319, 0.04242319])]\n",
            "[0.04242318647758618, 0.04120111647405138]\n",
            "\n"
          ],
          "name": "stdout"
        }
      ]
    },
    {
      "cell_type": "code",
      "metadata": {
        "id": "L62jxYC9yS37",
        "colab_type": "code",
        "colab": {
          "base_uri": "https://localhost:8080/",
          "height": 36
        },
        "outputId": "f4545789-d117-4c38-f9b5-ba048da012bc"
      },
      "source": [
        "# Convert the training data set to numpy array for modeling\n",
        "x_train, y_train = np.array(x_train), np.array(y_train)\n",
        "\n",
        "# Reshaping is necessary for LSTM which requires 3-dimensional data\n",
        "# with a numpy array it will only be a 2-dimensional data set\n",
        "\n",
        "# to check the shape\n",
        "# Here it can be seen that 1785 rows and 100 columns\n",
        "# To reshape to numpy array, the first position will be the number of rows\n",
        "# The second position will be the number of columns (time steps)\n",
        "# The third position will be the number of features which is 1 since its just the closing price\n",
        "x_train = np.reshape(x_train, (x_train.shape[0], x_train.shape[1], 1))\n",
        "x_train.shape"
      ],
      "execution_count": 7,
      "outputs": [
        {
          "output_type": "execute_result",
          "data": {
            "text/plain": [
              "(1785, 100, 1)"
            ]
          },
          "metadata": {
            "tags": []
          },
          "execution_count": 7
        }
      ]
    },
    {
      "cell_type": "code",
      "metadata": {
        "id": "U0bwlw3YyS0g",
        "colab_type": "code",
        "colab": {}
      },
      "source": [
        "# Build the LSTM model\n",
        "\n",
        "model = Sequential()\n",
        "# Add first layer\n",
        "# First layer, 50 neurons, return_sequence = True since another layer will be added in after this\n",
        "# on the input_shape the first [1] refers to the time steps\n",
        "# the second 1 is features which is still 1, the closing price\n",
        "model.add(LSTM(50, return_sequences=True, input_shape = (x_train.shape[1], 1)))\n",
        "# False this time as no LSTM layers being added\n",
        "model.add(LSTM(50, return_sequences=False))\n",
        "# Add a dense layer with 25 neurons\n",
        "model.add(Dense(25))\n",
        "# Add a dense layer with 1 neuron\n",
        "model.add(Dense(1))"
      ],
      "execution_count": 8,
      "outputs": []
    },
    {
      "cell_type": "code",
      "metadata": {
        "id": "_DjVIWWXySwX",
        "colab_type": "code",
        "colab": {
          "base_uri": "https://localhost:8080/",
          "height": 780
        },
        "outputId": "9cc24394-b20d-4bc2-da4a-5e0b3e8e944f"
      },
      "source": [
        "# Compiling the model \n",
        "# the loss function basically helps guide the optimizer in the right direction\n",
        "# the optimizer ties in the model parameters to the loss function \n",
        "\n",
        "# Other optimizers to use\n",
        "    #Gradient Descent\n",
        "    #Adagrad\n",
        "    #RMSprop\n",
        "\n",
        "model.compile(optimizer = \"adam\", loss = \"mean_squared_error\")\n",
        "\n",
        "# Model train\n",
        "# Epochs are full runs through the data forward and back\n",
        "model.fit(x_train, y_train, batch_size=1, epochs = 20)"
      ],
      "execution_count": 9,
      "outputs": [
        {
          "output_type": "stream",
          "text": [
            "Epoch 1/20\n",
            "1785/1785 [==============================] - 98s 55ms/step - loss: 0.0023\n",
            "Epoch 2/20\n",
            "1785/1785 [==============================] - 95s 53ms/step - loss: 0.0010\n",
            "Epoch 3/20\n",
            "1785/1785 [==============================] - 96s 54ms/step - loss: 7.5471e-04\n",
            "Epoch 4/20\n",
            "1785/1785 [==============================] - 96s 54ms/step - loss: 5.0752e-04\n",
            "Epoch 5/20\n",
            "1785/1785 [==============================] - 96s 54ms/step - loss: 5.6868e-04\n",
            "Epoch 6/20\n",
            "1785/1785 [==============================] - 96s 54ms/step - loss: 4.0290e-04\n",
            "Epoch 7/20\n",
            "1785/1785 [==============================] - 96s 54ms/step - loss: 4.8932e-04\n",
            "Epoch 8/20\n",
            "1785/1785 [==============================] - 96s 54ms/step - loss: 4.2462e-04\n",
            "Epoch 9/20\n",
            "1785/1785 [==============================] - 99s 56ms/step - loss: 3.7605e-04\n",
            "Epoch 10/20\n",
            "1785/1785 [==============================] - 95s 53ms/step - loss: 4.7846e-04\n",
            "Epoch 11/20\n",
            "1785/1785 [==============================] - 95s 53ms/step - loss: 3.2676e-04\n",
            "Epoch 12/20\n",
            "1785/1785 [==============================] - 95s 53ms/step - loss: 3.2523e-04\n",
            "Epoch 13/20\n",
            "1785/1785 [==============================] - 95s 53ms/step - loss: 3.4695e-04\n",
            "Epoch 14/20\n",
            "1785/1785 [==============================] - 96s 54ms/step - loss: 3.7574e-04\n",
            "Epoch 15/20\n",
            "1785/1785 [==============================] - 99s 56ms/step - loss: 3.5927e-04\n",
            "Epoch 16/20\n",
            "1785/1785 [==============================] - 95s 53ms/step - loss: 3.3674e-04\n",
            "Epoch 17/20\n",
            "1785/1785 [==============================] - 95s 53ms/step - loss: 3.1128e-04\n",
            "Epoch 18/20\n",
            "1785/1785 [==============================] - 95s 53ms/step - loss: 3.1010e-04\n",
            "Epoch 19/20\n",
            "1785/1785 [==============================] - 95s 53ms/step - loss: 3.1294e-04\n",
            "Epoch 20/20\n",
            "1785/1785 [==============================] - 95s 53ms/step - loss: 3.3313e-04\n"
          ],
          "name": "stdout"
        },
        {
          "output_type": "execute_result",
          "data": {
            "text/plain": [
              "<keras.callbacks.callbacks.History at 0x7fd0876a9f60>"
            ]
          },
          "metadata": {
            "tags": []
          },
          "execution_count": 9
        }
      ]
    },
    {
      "cell_type": "code",
      "metadata": {
        "id": "9kaYqxDEs1G9",
        "colab_type": "code",
        "colab": {}
      },
      "source": [
        "# Create the Test data set\n",
        "test = scaled_data[]"
      ],
      "execution_count": null,
      "outputs": []
    },
    {
      "cell_type": "code",
      "metadata": {
        "id": "4aHe8PU4JixX",
        "colab_type": "code",
        "colab": {}
      },
      "source": [
        ""
      ],
      "execution_count": null,
      "outputs": []
    },
    {
      "cell_type": "code",
      "metadata": {
        "id": "CyXXZ4k9Ji7-",
        "colab_type": "code",
        "colab": {}
      },
      "source": [
        ""
      ],
      "execution_count": null,
      "outputs": []
    },
    {
      "cell_type": "code",
      "metadata": {
        "id": "2rxA9yZ1JjB5",
        "colab_type": "code",
        "colab": {}
      },
      "source": [
        ""
      ],
      "execution_count": null,
      "outputs": []
    },
    {
      "cell_type": "code",
      "metadata": {
        "id": "V81S2SF6Ji-9",
        "colab_type": "code",
        "colab": {}
      },
      "source": [
        ""
      ],
      "execution_count": null,
      "outputs": []
    },
    {
      "cell_type": "code",
      "metadata": {
        "id": "CK1u-a1cs1LQ",
        "colab_type": "code",
        "colab": {}
      },
      "source": [
        ""
      ],
      "execution_count": null,
      "outputs": []
    }
  ]
}