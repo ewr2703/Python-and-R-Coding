{
  "nbformat": 4,
  "nbformat_minor": 0,
  "metadata": {
    "colab": {
      "name": "AMD Stock Price Prediction - LSTM.ipynb",
      "provenance": [],
      "collapsed_sections": []
    },
    "kernelspec": {
      "name": "python3",
      "display_name": "Python 3"
    }
  },
  "cells": [
    {
      "cell_type": "markdown",
      "metadata": {
        "id": "Y8p37p8l0Tsq",
        "colab_type": "text"
      },
      "source": [
        "*To - Do\n",
        "- Make a function to take a stock to easily just pull data\n",
        "- need an input of date and stock symbol as well as data source\n",
        "- Need to also build a function to check for empty values\n",
        "- Need a function to also convert dataframe to numpy array\n",
        "- maybe make a section on how to split data in different ways*"
      ]
    },
    {
      "cell_type": "markdown",
      "metadata": {
        "id": "SCIGRcGmsKKf",
        "colab_type": "text"
      },
      "source": [
        "# LSTM - Long Short Term Memory"
      ]
    },
    {
      "cell_type": "markdown",
      "metadata": {
        "id": "gvDwfWeXs2x8",
        "colab_type": "text"
      },
      "source": [
        "This program pulls stock data from the web and predicts the future price of that stock. "
      ]
    },
    {
      "cell_type": "markdown",
      "metadata": {
        "id": "8oUIAAIQ2kLY",
        "colab_type": "text"
      },
      "source": [
        "# Import the libraries"
      ]
    },
    {
      "cell_type": "code",
      "metadata": {
        "id": "MDxiaxpprrN7",
        "colab_type": "code",
        "colab": {
          "base_uri": "https://localhost:8080/",
          "height": 93
        },
        "outputId": "4d8ca69f-12d7-4613-a576-c639f7a48f53"
      },
      "source": [
        "import math\n",
        "import pandas as pd\n",
        "import numpy as np\n",
        "import pandas_datareader as web\n",
        "from sklearn.preprocessing import MinMaxScaler\n",
        "from keras.models import Sequential\n",
        "from keras.layers import Dense, LSTM\n",
        "import matplotlib.pyplot as plt\n",
        "plt.style.use(\"fivethirtyeight\")"
      ],
      "execution_count": 1,
      "outputs": [
        {
          "output_type": "stream",
          "text": [
            "/usr/local/lib/python3.6/dist-packages/pandas_datareader/compat/__init__.py:7: FutureWarning: pandas.util.testing is deprecated. Use the functions in the public API at pandas.testing instead.\n",
            "  from pandas.util.testing import assert_frame_equal\n",
            "Using TensorFlow backend.\n"
          ],
          "name": "stderr"
        }
      ]
    },
    {
      "cell_type": "markdown",
      "metadata": {
        "id": "Umk7Vk6q2mjS",
        "colab_type": "text"
      },
      "source": [
        "# Bring in the Data from source"
      ]
    },
    {
      "cell_type": "code",
      "metadata": {
        "id": "qgxCQfFKs08W",
        "colab_type": "code",
        "colab": {
          "base_uri": "https://localhost:8080/",
          "height": 456
        },
        "outputId": "2e2a64d9-4a57-45e5-fe4b-5af457f3e64a"
      },
      "source": [
        "# Grab the data for AMD\n",
        "amd = web.DataReader('AMD', data_source='yahoo', start = \"2013-01-01\", end = '2020-07-03')\n",
        "# View the data\n",
        "amd"
      ],
      "execution_count": 4,
      "outputs": [
        {
          "output_type": "execute_result",
          "data": {
            "text/html": [
              "<div>\n",
              "<style scoped>\n",
              "    .dataframe tbody tr th:only-of-type {\n",
              "        vertical-align: middle;\n",
              "    }\n",
              "\n",
              "    .dataframe tbody tr th {\n",
              "        vertical-align: top;\n",
              "    }\n",
              "\n",
              "    .dataframe thead th {\n",
              "        text-align: right;\n",
              "    }\n",
              "</style>\n",
              "<table border=\"1\" class=\"dataframe\">\n",
              "  <thead>\n",
              "    <tr style=\"text-align: right;\">\n",
              "      <th></th>\n",
              "      <th>High</th>\n",
              "      <th>Low</th>\n",
              "      <th>Open</th>\n",
              "      <th>Close</th>\n",
              "      <th>Volume</th>\n",
              "      <th>Adj Close</th>\n",
              "    </tr>\n",
              "    <tr>\n",
              "      <th>Date</th>\n",
              "      <th></th>\n",
              "      <th></th>\n",
              "      <th></th>\n",
              "      <th></th>\n",
              "      <th></th>\n",
              "      <th></th>\n",
              "    </tr>\n",
              "  </thead>\n",
              "  <tbody>\n",
              "    <tr>\n",
              "      <th>2013-01-02</th>\n",
              "      <td>2.570000</td>\n",
              "      <td>2.450000</td>\n",
              "      <td>2.550000</td>\n",
              "      <td>2.530000</td>\n",
              "      <td>27214800</td>\n",
              "      <td>2.530000</td>\n",
              "    </tr>\n",
              "    <tr>\n",
              "      <th>2013-01-03</th>\n",
              "      <td>2.590000</td>\n",
              "      <td>2.460000</td>\n",
              "      <td>2.520000</td>\n",
              "      <td>2.490000</td>\n",
              "      <td>24966900</td>\n",
              "      <td>2.490000</td>\n",
              "    </tr>\n",
              "    <tr>\n",
              "      <th>2013-01-04</th>\n",
              "      <td>2.590000</td>\n",
              "      <td>2.490000</td>\n",
              "      <td>2.510000</td>\n",
              "      <td>2.590000</td>\n",
              "      <td>22054200</td>\n",
              "      <td>2.590000</td>\n",
              "    </tr>\n",
              "    <tr>\n",
              "      <th>2013-01-07</th>\n",
              "      <td>2.700000</td>\n",
              "      <td>2.600000</td>\n",
              "      <td>2.610000</td>\n",
              "      <td>2.670000</td>\n",
              "      <td>25575200</td>\n",
              "      <td>2.670000</td>\n",
              "    </tr>\n",
              "    <tr>\n",
              "      <th>2013-01-08</th>\n",
              "      <td>2.760000</td>\n",
              "      <td>2.640000</td>\n",
              "      <td>2.720000</td>\n",
              "      <td>2.670000</td>\n",
              "      <td>29140800</td>\n",
              "      <td>2.670000</td>\n",
              "    </tr>\n",
              "    <tr>\n",
              "      <th>...</th>\n",
              "      <td>...</td>\n",
              "      <td>...</td>\n",
              "      <td>...</td>\n",
              "      <td>...</td>\n",
              "      <td>...</td>\n",
              "      <td>...</td>\n",
              "    </tr>\n",
              "    <tr>\n",
              "      <th>2020-06-26</th>\n",
              "      <td>51.950001</td>\n",
              "      <td>49.450001</td>\n",
              "      <td>51.849998</td>\n",
              "      <td>50.099998</td>\n",
              "      <td>65485700</td>\n",
              "      <td>50.099998</td>\n",
              "    </tr>\n",
              "    <tr>\n",
              "      <th>2020-06-29</th>\n",
              "      <td>50.279999</td>\n",
              "      <td>48.419998</td>\n",
              "      <td>50.150002</td>\n",
              "      <td>50.279999</td>\n",
              "      <td>49905800</td>\n",
              "      <td>50.279999</td>\n",
              "    </tr>\n",
              "    <tr>\n",
              "      <th>2020-06-30</th>\n",
              "      <td>52.770000</td>\n",
              "      <td>50.820000</td>\n",
              "      <td>51.160000</td>\n",
              "      <td>52.610001</td>\n",
              "      <td>42275700</td>\n",
              "      <td>52.610001</td>\n",
              "    </tr>\n",
              "    <tr>\n",
              "      <th>2020-07-01</th>\n",
              "      <td>52.869999</td>\n",
              "      <td>51.599998</td>\n",
              "      <td>52.630001</td>\n",
              "      <td>52.580002</td>\n",
              "      <td>32370900</td>\n",
              "      <td>52.580002</td>\n",
              "    </tr>\n",
              "    <tr>\n",
              "      <th>2020-07-02</th>\n",
              "      <td>53.189999</td>\n",
              "      <td>52.049999</td>\n",
              "      <td>53.029999</td>\n",
              "      <td>52.340000</td>\n",
              "      <td>29081400</td>\n",
              "      <td>52.340000</td>\n",
              "    </tr>\n",
              "  </tbody>\n",
              "</table>\n",
              "<p>1889 rows × 6 columns</p>\n",
              "</div>"
            ],
            "text/plain": [
              "                 High        Low       Open      Close    Volume  Adj Close\n",
              "Date                                                                       \n",
              "2013-01-02   2.570000   2.450000   2.550000   2.530000  27214800   2.530000\n",
              "2013-01-03   2.590000   2.460000   2.520000   2.490000  24966900   2.490000\n",
              "2013-01-04   2.590000   2.490000   2.510000   2.590000  22054200   2.590000\n",
              "2013-01-07   2.700000   2.600000   2.610000   2.670000  25575200   2.670000\n",
              "2013-01-08   2.760000   2.640000   2.720000   2.670000  29140800   2.670000\n",
              "...               ...        ...        ...        ...       ...        ...\n",
              "2020-06-26  51.950001  49.450001  51.849998  50.099998  65485700  50.099998\n",
              "2020-06-29  50.279999  48.419998  50.150002  50.279999  49905800  50.279999\n",
              "2020-06-30  52.770000  50.820000  51.160000  52.610001  42275700  52.610001\n",
              "2020-07-01  52.869999  51.599998  52.630001  52.580002  32370900  52.580002\n",
              "2020-07-02  53.189999  52.049999  53.029999  52.340000  29081400  52.340000\n",
              "\n",
              "[1889 rows x 6 columns]"
            ]
          },
          "metadata": {
            "tags": []
          },
          "execution_count": 4
        }
      ]
    },
    {
      "cell_type": "markdown",
      "metadata": {
        "id": "ZN3kvh_h2qRy",
        "colab_type": "text"
      },
      "source": [
        "# Visualize the stock trend"
      ]
    },
    {
      "cell_type": "code",
      "metadata": {
        "id": "CAON4fNds0-v",
        "colab_type": "code",
        "colab": {
          "base_uri": "https://localhost:8080/",
          "height": 616
        },
        "outputId": "d50ba03a-1987-42d8-ad56-e3cb87499aa7"
      },
      "source": [
        "# Viaulize the price history of AMD stock\n",
        "plt.figure(figsize=(20,10))\n",
        "plt.title(\"Close Price History\")\n",
        "plt.plot(amd['Close'])\n",
        "plt.xlabel('Date', fontsize=20)\n",
        "plt.ylabel('Close Price USD', fontsize = 20)\n",
        "plt.legend()\n",
        "plt.show()"
      ],
      "execution_count": 5,
      "outputs": [
        {
          "output_type": "stream",
          "text": [
            "No handles with labels found to put in legend.\n"
          ],
          "name": "stderr"
        },
        {
          "output_type": "display_data",
          "data": {
            "image/png": "[encoded data removed]",
            "text/plain": [
              "<Figure size 1440x720 with 1 Axes>"
            ]
          },
          "metadata": {
            "tags": [],
            "needs_background": "light"
          }
        }
      ]
    },
    {
      "cell_type": "markdown",
      "metadata": {
        "id": "qhKAf7LQ2cbw",
        "colab_type": "text"
      },
      "source": [
        "# Pre-processing the data before it goes into a model"
      ]
    },
    {
      "cell_type": "code",
      "metadata": {
        "id": "dVd_Zptys1Ey",
        "colab_type": "code",
        "colab": {
          "base_uri": "https://localhost:8080/",
          "height": 148
        },
        "outputId": "0851c83e-1e6d-44ed-f25a-8e5328c0b1c1"
      },
      "source": [
        "# Clean the data to predict on the stock\n",
        "# For it to run in a Keras Model the dataframe must be transformed to a numpy array\n",
        "\n",
        "# The closing price will be the predictor so take only this column\n",
        "amd_close = amd.filter([\"Close\"])\n",
        "# Convert to numpy array\n",
        "dataset = amd_close.values\n",
        "\n",
        "# Scale the data\n",
        "# This is necessary to preprocess the data to ensure the highs and lows (outliers) of the data are on the same scale\n",
        "# This step is similar to image preprocessing image data when diving all pixels by 255\n",
        "scaler = MinMaxScaler(feature_range=(0,1))\n",
        "# This puts all data points either at a 0 or 1 or anything between\n",
        "scaled_data = scaler.fit_transform(dataset)\n",
        "\n",
        "scaled_data"
      ],
      "execution_count": null,
      "outputs": [
        {
          "output_type": "execute_result",
          "data": {
            "text/plain": [
              "array([[0.01588687],\n",
              "       [0.01518855],\n",
              "       [0.01693436],\n",
              "       ...,\n",
              "       [0.87831702],\n",
              "       [0.84636867],\n",
              "       [0.84951113]])"
            ]
          },
          "metadata": {
            "tags": []
          },
          "execution_count": 4
        }
      ]
    },
    {
      "cell_type": "markdown",
      "metadata": {
        "id": "oXY_csXz2zOI",
        "colab_type": "text"
      },
      "source": [
        "# Model"
      ]
    },
    {
      "cell_type": "code",
      "metadata": {
        "id": "q0l8AwbI21YY",
        "colab_type": "code",
        "colab": {
          "base_uri": "https://localhost:8080/",
          "height": 1000
        },
        "outputId": "4d284fe6-bcb4-4013-a524-8df6b1793a97"
      },
      "source": [
        "# training data set \n",
        "train = scaled_data[0:len(scaled_data), :]\n",
        "\n",
        "# Split the training data\n",
        "\n",
        "# The idea here is to take data out of the scaled dataset and apply them to two different list\n",
        "# One list will be made up of the predictor variables while the other list will be made up of the prediction\n",
        "# This split is necessary to train the model so that when a test set comes in, \n",
        "# we can fit this training data set to the test or any new stock data for AMD\n",
        "\n",
        "# make x_train an empty list\n",
        "# this will be the predictor variable\n",
        "x_train = []\n",
        "# make y_train an empty list\n",
        "# make y_train as dependent variable \n",
        "y_train = []\n",
        "\n",
        "for i in range(100, len(train)):\n",
        "  # this takes the position of i to 100 but excludes i and \n",
        "  # appends to the x_train list\n",
        "  # take the 0 column which means first column\n",
        "  x_train.append(train[i-100:i, 0])\n",
        "  y_train.append(train[i,0])\n",
        "\n",
        "  if i <= 101:\n",
        "    print(x_train)\n",
        "    print(y_train)\n",
        "    print()\n",
        "\n"
      ],
      "execution_count": null,
      "outputs": [
        {
          "output_type": "stream",
          "text": [
            "[array([0.01588687, 0.01518855, 0.01693436, 0.01833101, 0.01833101,\n",
            "       0.01763268, 0.0174581 , 0.01833101, 0.01780726, 0.01850559,\n",
            "       0.01920391, 0.01955307, 0.0146648 , 0.01449022, 0.01937849,\n",
            "       0.02042598, 0.02147346, 0.02094972, 0.01955307, 0.01798184,\n",
            "       0.01710894, 0.01710894, 0.01571229, 0.01710894, 0.01710894,\n",
            "       0.01658519, 0.01693436, 0.01833101, 0.02007681, 0.01972765,\n",
            "       0.01972765, 0.01902933, 0.02094972, 0.01885475, 0.01710894,\n",
            "       0.01728352, 0.01588687, 0.0146648 , 0.01588687, 0.01518855,\n",
            "       0.01396648, 0.01361732, 0.01414106, 0.01414106, 0.01623603,\n",
            "       0.01641061, 0.01693436, 0.01728352, 0.01710894, 0.01763268,\n",
            "       0.01710894, 0.01798184, 0.01833101, 0.01972765, 0.01780726,\n",
            "       0.01606145, 0.01553771, 0.01606145, 0.01623603, 0.01623603,\n",
            "       0.01431564, 0.01344274, 0.01222067, 0.01239525, 0.01169693,\n",
            "       0.01693436, 0.01763268, 0.01728352, 0.01571229, 0.01501397,\n",
            "       0.01361732, 0.01431564, 0.01361732, 0.01553771, 0.01483939,\n",
            "       0.0146648 , 0.01588687, 0.01728352, 0.01850559, 0.01780726,\n",
            "       0.01850559, 0.02094972, 0.02793296, 0.03125   , 0.03456704,\n",
            "       0.03474162, 0.03351955, 0.0385824 , 0.03910614, 0.04067737,\n",
            "       0.04451816, 0.04608939, 0.04818436, 0.0385824 , 0.04277235,\n",
            "       0.04329609, 0.04189944, 0.04085195, 0.04172486, 0.04242319])]\n",
            "[0.04242318647758618]\n",
            "\n",
            "[array([0.01588687, 0.01518855, 0.01693436, 0.01833101, 0.01833101,\n",
            "       0.01763268, 0.0174581 , 0.01833101, 0.01780726, 0.01850559,\n",
            "       0.01920391, 0.01955307, 0.0146648 , 0.01449022, 0.01937849,\n",
            "       0.02042598, 0.02147346, 0.02094972, 0.01955307, 0.01798184,\n",
            "       0.01710894, 0.01710894, 0.01571229, 0.01710894, 0.01710894,\n",
            "       0.01658519, 0.01693436, 0.01833101, 0.02007681, 0.01972765,\n",
            "       0.01972765, 0.01902933, 0.02094972, 0.01885475, 0.01710894,\n",
            "       0.01728352, 0.01588687, 0.0146648 , 0.01588687, 0.01518855,\n",
            "       0.01396648, 0.01361732, 0.01414106, 0.01414106, 0.01623603,\n",
            "       0.01641061, 0.01693436, 0.01728352, 0.01710894, 0.01763268,\n",
            "       0.01710894, 0.01798184, 0.01833101, 0.01972765, 0.01780726,\n",
            "       0.01606145, 0.01553771, 0.01606145, 0.01623603, 0.01623603,\n",
            "       0.01431564, 0.01344274, 0.01222067, 0.01239525, 0.01169693,\n",
            "       0.01693436, 0.01763268, 0.01728352, 0.01571229, 0.01501397,\n",
            "       0.01361732, 0.01431564, 0.01361732, 0.01553771, 0.01483939,\n",
            "       0.0146648 , 0.01588687, 0.01728352, 0.01850559, 0.01780726,\n",
            "       0.01850559, 0.02094972, 0.02793296, 0.03125   , 0.03456704,\n",
            "       0.03474162, 0.03351955, 0.0385824 , 0.03910614, 0.04067737,\n",
            "       0.04451816, 0.04608939, 0.04818436, 0.0385824 , 0.04277235,\n",
            "       0.04329609, 0.04189944, 0.04085195, 0.04172486, 0.04242319]), array([0.01518855, 0.01693436, 0.01833101, 0.01833101, 0.01763268,\n",
            "       0.0174581 , 0.01833101, 0.01780726, 0.01850559, 0.01920391,\n",
            "       0.01955307, 0.0146648 , 0.01449022, 0.01937849, 0.02042598,\n",
            "       0.02147346, 0.02094972, 0.01955307, 0.01798184, 0.01710894,\n",
            "       0.01710894, 0.01571229, 0.01710894, 0.01710894, 0.01658519,\n",
            "       0.01693436, 0.01833101, 0.02007681, 0.01972765, 0.01972765,\n",
            "       0.01902933, 0.02094972, 0.01885475, 0.01710894, 0.01728352,\n",
            "       0.01588687, 0.0146648 , 0.01588687, 0.01518855, 0.01396648,\n",
            "       0.01361732, 0.01414106, 0.01414106, 0.01623603, 0.01641061,\n",
            "       0.01693436, 0.01728352, 0.01710894, 0.01763268, 0.01710894,\n",
            "       0.01798184, 0.01833101, 0.01972765, 0.01780726, 0.01606145,\n",
            "       0.01553771, 0.01606145, 0.01623603, 0.01623603, 0.01431564,\n",
            "       0.01344274, 0.01222067, 0.01239525, 0.01169693, 0.01693436,\n",
            "       0.01763268, 0.01728352, 0.01571229, 0.01501397, 0.01361732,\n",
            "       0.01431564, 0.01361732, 0.01553771, 0.01483939, 0.0146648 ,\n",
            "       0.01588687, 0.01728352, 0.01850559, 0.01780726, 0.01850559,\n",
            "       0.02094972, 0.02793296, 0.03125   , 0.03456704, 0.03474162,\n",
            "       0.03351955, 0.0385824 , 0.03910614, 0.04067737, 0.04451816,\n",
            "       0.04608939, 0.04818436, 0.0385824 , 0.04277235, 0.04329609,\n",
            "       0.04189944, 0.04085195, 0.04172486, 0.04242319, 0.04242319])]\n",
            "[0.04242318647758618, 0.04120111647405138]\n",
            "\n"
          ],
          "name": "stdout"
        }
      ]
    },
    {
      "cell_type": "code",
      "metadata": {
        "id": "L62jxYC9yS37",
        "colab_type": "code",
        "colab": {
          "base_uri": "https://localhost:8080/",
          "height": 36
        },
        "outputId": "bd33feca-2d13-4382-ad58-c664a1fff041"
      },
      "source": [
        "# Convert the training data set to numpy array for modeling\n",
        "x_train, y_train = np.array(x_train), np.array(y_train)\n",
        "\n",
        "# Reshaping is necessary for LSTM which requires 3-dimensional data\n",
        "# with a numpy array it will only be a 2-dimensional data set\n",
        "\n",
        "# to check the shape\n",
        "# Here it can be seen that 1785 rows and 100 columns\n",
        "# To reshape to numpy array, the first position will be the number of rows\n",
        "# The second position will be the number of columns (time steps)\n",
        "# The third position will be the number of features which is 1 since its just the closing price\n",
        "x_train = np.reshape(x_train, (x_train.shape[0], x_train.shape[1], 1))\n",
        "x_train.shape"
      ],
      "execution_count": null,
      "outputs": [
        {
          "output_type": "execute_result",
          "data": {
            "text/plain": [
              "(1786, 100, 1)"
            ]
          },
          "metadata": {
            "tags": []
          },
          "execution_count": 6
        }
      ]
    },
    {
      "cell_type": "code",
      "metadata": {
        "id": "U0bwlw3YyS0g",
        "colab_type": "code",
        "colab": {}
      },
      "source": [
        "# Build the LSTM model\n",
        "\n",
        "model = Sequential()\n",
        "# Add first layer\n",
        "# First layer, 50 neurons, return_sequence = True since another layer will be added in after this\n",
        "# on the input_shape the first [1] refers to the time steps\n",
        "# the second 1 is features which is still 1, the closing price\n",
        "model.add(LSTM(50, return_sequences=True, input_shape = (x_train.shape[1], 1)))\n",
        "# False this time as no LSTM layers being added\n",
        "model.add(LSTM(50, return_sequences=False))\n",
        "# Add a dense layer with 25 neurons\n",
        "model.add(Dense(25))\n",
        "# Add a dense layer with 1 neuron\n",
        "model.add(Dense(1))"
      ],
      "execution_count": null,
      "outputs": []
    },
    {
      "cell_type": "code",
      "metadata": {
        "id": "_DjVIWWXySwX",
        "colab_type": "code",
        "colab": {
          "base_uri": "https://localhost:8080/",
          "height": 648
        },
        "outputId": "21e262fd-3330-4b30-c7c6-b0f5962a163e"
      },
      "source": [
        "# Compiling the model \n",
        "# the loss function basically helps guide the optimizer in the right direction\n",
        "# the optimizer ties in the model parameters to the loss function \n",
        "\n",
        "# Other optimizers to use\n",
        "    #Gradient Descent\n",
        "    #Adagrad\n",
        "    #RMSprop\n",
        "\n",
        "model.compile(optimizer = \"adam\", loss = \"mean_squared_error\")\n",
        "\n",
        "# Model train\n",
        "# Epochs are full runs through the data forward and back\n",
        "model.fit(x_train, y_train, batch_size=1, epochs = 20)"
      ],
      "execution_count": null,
      "outputs": [
        {
          "output_type": "stream",
          "text": [
            "Epoch 1/20\n",
            "1786/1786 [==============================] - 119s 66ms/step - loss: 0.0019\n",
            "Epoch 2/20\n",
            "1786/1786 [==============================] - 114s 64ms/step - loss: 8.2526e-04\n",
            "Epoch 3/20\n",
            "1786/1786 [==============================] - 114s 64ms/step - loss: 9.1256e-04\n",
            "Epoch 4/20\n",
            "1786/1786 [==============================] - 121s 68ms/step - loss: 5.6863e-04\n",
            "Epoch 5/20\n",
            "1786/1786 [==============================] - 116s 65ms/step - loss: 4.3199e-04\n",
            "Epoch 6/20\n",
            "1786/1786 [==============================] - 124s 69ms/step - loss: 3.8773e-04\n",
            "Epoch 7/20\n",
            "1036/1786 [================>.............] - ETA: 49s - loss: 5.2428e-04"
          ],
          "name": "stdout"
        },
        {
          "output_type": "error",
          "ename": "KeyboardInterrupt",
          "evalue": "ignored",
          "traceback": [
            "\u001b[0;31m---------------------------------------------------------------------------\u001b[0m",
            "\u001b[0;31mKeyboardInterrupt\u001b[0m                         Traceback (most recent call last)",
            "\u001b[0;32m<ipython-input-8-a5e0cbeda3a0>\u001b[0m in \u001b[0;36m<module>\u001b[0;34m()\u001b[0m\n\u001b[1;32m     12\u001b[0m \u001b[0;31m# Model train\u001b[0m\u001b[0;34m\u001b[0m\u001b[0;34m\u001b[0m\u001b[0;34m\u001b[0m\u001b[0m\n\u001b[1;32m     13\u001b[0m \u001b[0;31m# Epochs are full runs through the data forward and back\u001b[0m\u001b[0;34m\u001b[0m\u001b[0;34m\u001b[0m\u001b[0;34m\u001b[0m\u001b[0m\n\u001b[0;32m---> 14\u001b[0;31m \u001b[0mmodel\u001b[0m\u001b[0;34m.\u001b[0m\u001b[0mfit\u001b[0m\u001b[0;34m(\u001b[0m\u001b[0mx_train\u001b[0m\u001b[0;34m,\u001b[0m \u001b[0my_train\u001b[0m\u001b[0;34m,\u001b[0m \u001b[0mbatch_size\u001b[0m\u001b[0;34m=\u001b[0m\u001b[0;36m1\u001b[0m\u001b[0;34m,\u001b[0m \u001b[0mepochs\u001b[0m \u001b[0;34m=\u001b[0m \u001b[0;36m20\u001b[0m\u001b[0;34m)\u001b[0m\u001b[0;34m\u001b[0m\u001b[0;34m\u001b[0m\u001b[0m\n\u001b[0m",
            "\u001b[0;32m/usr/local/lib/python3.6/dist-packages/keras/engine/training.py\u001b[0m in \u001b[0;36mfit\u001b[0;34m(self, x, y, batch_size, epochs, verbose, callbacks, validation_split, validation_data, shuffle, class_weight, sample_weight, initial_epoch, steps_per_epoch, validation_steps, validation_freq, max_queue_size, workers, use_multiprocessing, **kwargs)\u001b[0m\n\u001b[1;32m   1237\u001b[0m                                         \u001b[0msteps_per_epoch\u001b[0m\u001b[0;34m=\u001b[0m\u001b[0msteps_per_epoch\u001b[0m\u001b[0;34m,\u001b[0m\u001b[0;34m\u001b[0m\u001b[0;34m\u001b[0m\u001b[0m\n\u001b[1;32m   1238\u001b[0m                                         \u001b[0mvalidation_steps\u001b[0m\u001b[0;34m=\u001b[0m\u001b[0mvalidation_steps\u001b[0m\u001b[0;34m,\u001b[0m\u001b[0;34m\u001b[0m\u001b[0;34m\u001b[0m\u001b[0m\n\u001b[0;32m-> 1239\u001b[0;31m                                         validation_freq=validation_freq)\n\u001b[0m\u001b[1;32m   1240\u001b[0m \u001b[0;34m\u001b[0m\u001b[0m\n\u001b[1;32m   1241\u001b[0m     def evaluate(self,\n",
            "\u001b[0;32m/usr/local/lib/python3.6/dist-packages/keras/engine/training_arrays.py\u001b[0m in \u001b[0;36mfit_loop\u001b[0;34m(model, fit_function, fit_inputs, out_labels, batch_size, epochs, verbose, callbacks, val_function, val_inputs, shuffle, initial_epoch, steps_per_epoch, validation_steps, validation_freq)\u001b[0m\n\u001b[1;32m    194\u001b[0m                     \u001b[0mins_batch\u001b[0m\u001b[0;34m[\u001b[0m\u001b[0mi\u001b[0m\u001b[0;34m]\u001b[0m \u001b[0;34m=\u001b[0m \u001b[0mins_batch\u001b[0m\u001b[0;34m[\u001b[0m\u001b[0mi\u001b[0m\u001b[0;34m]\u001b[0m\u001b[0;34m.\u001b[0m\u001b[0mtoarray\u001b[0m\u001b[0;34m(\u001b[0m\u001b[0;34m)\u001b[0m\u001b[0;34m\u001b[0m\u001b[0;34m\u001b[0m\u001b[0m\n\u001b[1;32m    195\u001b[0m \u001b[0;34m\u001b[0m\u001b[0m\n\u001b[0;32m--> 196\u001b[0;31m                 \u001b[0mouts\u001b[0m \u001b[0;34m=\u001b[0m \u001b[0mfit_function\u001b[0m\u001b[0;34m(\u001b[0m\u001b[0mins_batch\u001b[0m\u001b[0;34m)\u001b[0m\u001b[0;34m\u001b[0m\u001b[0;34m\u001b[0m\u001b[0m\n\u001b[0m\u001b[1;32m    197\u001b[0m                 \u001b[0mouts\u001b[0m \u001b[0;34m=\u001b[0m \u001b[0mto_list\u001b[0m\u001b[0;34m(\u001b[0m\u001b[0mouts\u001b[0m\u001b[0;34m)\u001b[0m\u001b[0;34m\u001b[0m\u001b[0;34m\u001b[0m\u001b[0m\n\u001b[1;32m    198\u001b[0m                 \u001b[0;32mfor\u001b[0m \u001b[0ml\u001b[0m\u001b[0;34m,\u001b[0m \u001b[0mo\u001b[0m \u001b[0;32min\u001b[0m \u001b[0mzip\u001b[0m\u001b[0;34m(\u001b[0m\u001b[0mout_labels\u001b[0m\u001b[0;34m,\u001b[0m \u001b[0mouts\u001b[0m\u001b[0;34m)\u001b[0m\u001b[0;34m:\u001b[0m\u001b[0;34m\u001b[0m\u001b[0;34m\u001b[0m\u001b[0m\n",
            "\u001b[0;32m/usr/local/lib/python3.6/dist-packages/tensorflow/python/keras/backend.py\u001b[0m in \u001b[0;36m__call__\u001b[0;34m(self, inputs)\u001b[0m\n\u001b[1;32m   3790\u001b[0m         \u001b[0mvalue\u001b[0m \u001b[0;34m=\u001b[0m \u001b[0mmath_ops\u001b[0m\u001b[0;34m.\u001b[0m\u001b[0mcast\u001b[0m\u001b[0;34m(\u001b[0m\u001b[0mvalue\u001b[0m\u001b[0;34m,\u001b[0m \u001b[0mtensor\u001b[0m\u001b[0;34m.\u001b[0m\u001b[0mdtype\u001b[0m\u001b[0;34m)\u001b[0m\u001b[0;34m\u001b[0m\u001b[0;34m\u001b[0m\u001b[0m\n\u001b[1;32m   3791\u001b[0m       \u001b[0mconverted_inputs\u001b[0m\u001b[0;34m.\u001b[0m\u001b[0mappend\u001b[0m\u001b[0;34m(\u001b[0m\u001b[0mvalue\u001b[0m\u001b[0;34m)\u001b[0m\u001b[0;34m\u001b[0m\u001b[0;34m\u001b[0m\u001b[0m\n\u001b[0;32m-> 3792\u001b[0;31m     \u001b[0moutputs\u001b[0m \u001b[0;34m=\u001b[0m \u001b[0mself\u001b[0m\u001b[0;34m.\u001b[0m\u001b[0m_graph_fn\u001b[0m\u001b[0;34m(\u001b[0m\u001b[0;34m*\u001b[0m\u001b[0mconverted_inputs\u001b[0m\u001b[0;34m)\u001b[0m\u001b[0;34m\u001b[0m\u001b[0;34m\u001b[0m\u001b[0m\n\u001b[0m\u001b[1;32m   3793\u001b[0m \u001b[0;34m\u001b[0m\u001b[0m\n\u001b[1;32m   3794\u001b[0m     \u001b[0;31m# EagerTensor.numpy() will often make a copy to ensure memory safety.\u001b[0m\u001b[0;34m\u001b[0m\u001b[0;34m\u001b[0m\u001b[0;34m\u001b[0m\u001b[0m\n",
            "\u001b[0;32m/usr/local/lib/python3.6/dist-packages/tensorflow/python/eager/function.py\u001b[0m in \u001b[0;36m__call__\u001b[0;34m(self, *args, **kwargs)\u001b[0m\n\u001b[1;32m   1603\u001b[0m       \u001b[0mTypeError\u001b[0m\u001b[0;34m:\u001b[0m \u001b[0mFor\u001b[0m \u001b[0minvalid\u001b[0m \u001b[0mpositional\u001b[0m\u001b[0;34m/\u001b[0m\u001b[0mkeyword\u001b[0m \u001b[0margument\u001b[0m \u001b[0mcombinations\u001b[0m\u001b[0;34m.\u001b[0m\u001b[0;34m\u001b[0m\u001b[0;34m\u001b[0m\u001b[0m\n\u001b[1;32m   1604\u001b[0m     \"\"\"\n\u001b[0;32m-> 1605\u001b[0;31m     \u001b[0;32mreturn\u001b[0m \u001b[0mself\u001b[0m\u001b[0;34m.\u001b[0m\u001b[0m_call_impl\u001b[0m\u001b[0;34m(\u001b[0m\u001b[0margs\u001b[0m\u001b[0;34m,\u001b[0m \u001b[0mkwargs\u001b[0m\u001b[0;34m)\u001b[0m\u001b[0;34m\u001b[0m\u001b[0;34m\u001b[0m\u001b[0m\n\u001b[0m\u001b[1;32m   1606\u001b[0m \u001b[0;34m\u001b[0m\u001b[0m\n\u001b[1;32m   1607\u001b[0m   \u001b[0;32mdef\u001b[0m \u001b[0m_call_impl\u001b[0m\u001b[0;34m(\u001b[0m\u001b[0mself\u001b[0m\u001b[0;34m,\u001b[0m \u001b[0margs\u001b[0m\u001b[0;34m,\u001b[0m \u001b[0mkwargs\u001b[0m\u001b[0;34m,\u001b[0m \u001b[0mcancellation_manager\u001b[0m\u001b[0;34m=\u001b[0m\u001b[0;32mNone\u001b[0m\u001b[0;34m)\u001b[0m\u001b[0;34m:\u001b[0m\u001b[0;34m\u001b[0m\u001b[0;34m\u001b[0m\u001b[0m\n",
            "\u001b[0;32m/usr/local/lib/python3.6/dist-packages/tensorflow/python/eager/function.py\u001b[0m in \u001b[0;36m_call_impl\u001b[0;34m(self, args, kwargs, cancellation_manager)\u001b[0m\n\u001b[1;32m   1643\u001b[0m       raise TypeError(\"Keyword arguments {} unknown. Expected {}.\".format(\n\u001b[1;32m   1644\u001b[0m           list(kwargs.keys()), list(self._arg_keywords)))\n\u001b[0;32m-> 1645\u001b[0;31m     \u001b[0;32mreturn\u001b[0m \u001b[0mself\u001b[0m\u001b[0;34m.\u001b[0m\u001b[0m_call_flat\u001b[0m\u001b[0;34m(\u001b[0m\u001b[0margs\u001b[0m\u001b[0;34m,\u001b[0m \u001b[0mself\u001b[0m\u001b[0;34m.\u001b[0m\u001b[0mcaptured_inputs\u001b[0m\u001b[0;34m,\u001b[0m \u001b[0mcancellation_manager\u001b[0m\u001b[0;34m)\u001b[0m\u001b[0;34m\u001b[0m\u001b[0;34m\u001b[0m\u001b[0m\n\u001b[0m\u001b[1;32m   1646\u001b[0m \u001b[0;34m\u001b[0m\u001b[0m\n\u001b[1;32m   1647\u001b[0m   \u001b[0;32mdef\u001b[0m \u001b[0m_filtered_call\u001b[0m\u001b[0;34m(\u001b[0m\u001b[0mself\u001b[0m\u001b[0;34m,\u001b[0m \u001b[0margs\u001b[0m\u001b[0;34m,\u001b[0m \u001b[0mkwargs\u001b[0m\u001b[0;34m)\u001b[0m\u001b[0;34m:\u001b[0m\u001b[0;34m\u001b[0m\u001b[0;34m\u001b[0m\u001b[0m\n",
            "\u001b[0;32m/usr/local/lib/python3.6/dist-packages/tensorflow/python/eager/function.py\u001b[0m in \u001b[0;36m_call_flat\u001b[0;34m(self, args, captured_inputs, cancellation_manager)\u001b[0m\n\u001b[1;32m   1744\u001b[0m       \u001b[0;31m# No tape is watching; skip to running the function.\u001b[0m\u001b[0;34m\u001b[0m\u001b[0;34m\u001b[0m\u001b[0;34m\u001b[0m\u001b[0m\n\u001b[1;32m   1745\u001b[0m       return self._build_call_outputs(self._inference_function.call(\n\u001b[0;32m-> 1746\u001b[0;31m           ctx, args, cancellation_manager=cancellation_manager))\n\u001b[0m\u001b[1;32m   1747\u001b[0m     forward_backward = self._select_forward_and_backward_functions(\n\u001b[1;32m   1748\u001b[0m         \u001b[0margs\u001b[0m\u001b[0;34m,\u001b[0m\u001b[0;34m\u001b[0m\u001b[0;34m\u001b[0m\u001b[0m\n",
            "\u001b[0;32m/usr/local/lib/python3.6/dist-packages/tensorflow/python/eager/function.py\u001b[0m in \u001b[0;36mcall\u001b[0;34m(self, ctx, args, cancellation_manager)\u001b[0m\n\u001b[1;32m    596\u001b[0m               \u001b[0minputs\u001b[0m\u001b[0;34m=\u001b[0m\u001b[0margs\u001b[0m\u001b[0;34m,\u001b[0m\u001b[0;34m\u001b[0m\u001b[0;34m\u001b[0m\u001b[0m\n\u001b[1;32m    597\u001b[0m               \u001b[0mattrs\u001b[0m\u001b[0;34m=\u001b[0m\u001b[0mattrs\u001b[0m\u001b[0;34m,\u001b[0m\u001b[0;34m\u001b[0m\u001b[0;34m\u001b[0m\u001b[0m\n\u001b[0;32m--> 598\u001b[0;31m               ctx=ctx)\n\u001b[0m\u001b[1;32m    599\u001b[0m         \u001b[0;32melse\u001b[0m\u001b[0;34m:\u001b[0m\u001b[0;34m\u001b[0m\u001b[0;34m\u001b[0m\u001b[0m\n\u001b[1;32m    600\u001b[0m           outputs = execute.execute_with_cancellation(\n",
            "\u001b[0;32m/usr/local/lib/python3.6/dist-packages/tensorflow/python/eager/execute.py\u001b[0m in \u001b[0;36mquick_execute\u001b[0;34m(op_name, num_outputs, inputs, attrs, ctx, name)\u001b[0m\n\u001b[1;32m     58\u001b[0m     \u001b[0mctx\u001b[0m\u001b[0;34m.\u001b[0m\u001b[0mensure_initialized\u001b[0m\u001b[0;34m(\u001b[0m\u001b[0;34m)\u001b[0m\u001b[0;34m\u001b[0m\u001b[0;34m\u001b[0m\u001b[0m\n\u001b[1;32m     59\u001b[0m     tensors = pywrap_tfe.TFE_Py_Execute(ctx._handle, device_name, op_name,\n\u001b[0;32m---> 60\u001b[0;31m                                         inputs, attrs, num_outputs)\n\u001b[0m\u001b[1;32m     61\u001b[0m   \u001b[0;32mexcept\u001b[0m \u001b[0mcore\u001b[0m\u001b[0;34m.\u001b[0m\u001b[0m_NotOkStatusException\u001b[0m \u001b[0;32mas\u001b[0m \u001b[0me\u001b[0m\u001b[0;34m:\u001b[0m\u001b[0;34m\u001b[0m\u001b[0;34m\u001b[0m\u001b[0m\n\u001b[1;32m     62\u001b[0m     \u001b[0;32mif\u001b[0m \u001b[0mname\u001b[0m \u001b[0;32mis\u001b[0m \u001b[0;32mnot\u001b[0m \u001b[0;32mNone\u001b[0m\u001b[0;34m:\u001b[0m\u001b[0;34m\u001b[0m\u001b[0;34m\u001b[0m\u001b[0m\n",
            "\u001b[0;31mKeyboardInterrupt\u001b[0m: "
          ]
        }
      ]
    },
    {
      "cell_type": "code",
      "metadata": {
        "id": "9kaYqxDEs1G9",
        "colab_type": "code",
        "colab": {}
      },
      "source": [
        "# Create the Test data set\n",
        "test = scaled_data[]"
      ],
      "execution_count": null,
      "outputs": []
    },
    {
      "cell_type": "code",
      "metadata": {
        "id": "4aHe8PU4JixX",
        "colab_type": "code",
        "colab": {}
      },
      "source": [
        ""
      ],
      "execution_count": null,
      "outputs": []
    },
    {
      "cell_type": "code",
      "metadata": {
        "id": "CyXXZ4k9Ji7-",
        "colab_type": "code",
        "colab": {}
      },
      "source": [
        ""
      ],
      "execution_count": null,
      "outputs": []
    },
    {
      "cell_type": "code",
      "metadata": {
        "id": "2rxA9yZ1JjB5",
        "colab_type": "code",
        "colab": {}
      },
      "source": [
        ""
      ],
      "execution_count": null,
      "outputs": []
    },
    {
      "cell_type": "code",
      "metadata": {
        "id": "V81S2SF6Ji-9",
        "colab_type": "code",
        "colab": {}
      },
      "source": [
        ""
      ],
      "execution_count": null,
      "outputs": []
    },
    {
      "cell_type": "code",
      "metadata": {
        "id": "CK1u-a1cs1LQ",
        "colab_type": "code",
        "colab": {}
      },
      "source": [
        ""
      ],
      "execution_count": null,
      "outputs": []
    }
  ]
}